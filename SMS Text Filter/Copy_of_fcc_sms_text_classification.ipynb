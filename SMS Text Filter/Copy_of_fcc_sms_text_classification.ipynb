{
  "cells": [
    {
      "cell_type": "markdown",
      "metadata": {
        "id": "Eg62Pmz3o83v"
      },
      "source": [
        "*Note: You are currently reading this using Google Colaboratory which is a cloud-hosted version of Jupyter Notebook. This is a document containing both text cells for documentation and runnable code cells. If you are unfamiliar with Jupyter Notebook, watch this 3-minute introduction before starting this challenge: https://www.youtube.com/watch?v=inN8seMm7UI*\n",
        "\n",
        "---\n",
        "\n",
        "In this challenge, you need to create a machine learning model that will classify SMS messages as either \"ham\" or \"spam\". A \"ham\" message is a normal message sent by a friend. A \"spam\" message is an advertisement or a message sent by a company.\n",
        "\n",
        "You should create a function called `predict_message` that takes a message string as an argument and returns a list. The first element in the list should be a number between zero and one that indicates the likeliness of \"ham\" (0) or \"spam\" (1). The second element in the list should be the word \"ham\" or \"spam\", depending on which is most likely.\n",
        "\n",
        "For this challenge, you will use the [SMS Spam Collection dataset](http://www.dt.fee.unicamp.br/~tiago/smsspamcollection/). The dataset has already been grouped into train data and test data.\n",
        "\n",
        "The first two cells import the libraries and data. The final cell tests your model and function. Add your code in between these cells.\n"
      ]
    },
    {
      "cell_type": "markdown",
      "metadata": {
        "id": "TnLlGw7PoxvX"
      },
      "source": [
        "Tutorial reference for model and code:\n",
        "\n",
        "https://www.tensorflow.org/text/tutorials/text_classification_rnn"
      ]
    },
    {
      "cell_type": "code",
      "execution_count": 63,
      "metadata": {
        "colab": {
          "base_uri": "https://localhost:8080/"
        },
        "id": "8RZOuS9LWQvv",
        "outputId": "d8eb93da-77eb-4cdd-c115-b976ceec280a",
        "vscode": {
          "languageId": "python"
        }
      },
      "outputs": [
        {
          "name": "stdout",
          "output_type": "stream",
          "text": [
            "Looking in indexes: https://pypi.org/simple, https://us-python.pkg.dev/colab-wheels/public/simple/\n",
            "Requirement already satisfied: tf-nightly in /usr/local/lib/python3.7/dist-packages (2.11.0.dev20221007)\n",
            "Requirement already satisfied: tensorflow-io-gcs-filesystem>=0.23.1 in /usr/local/lib/python3.7/dist-packages (from tf-nightly) (0.27.0)\n",
            "Requirement already satisfied: typing-extensions>=3.6.6 in /usr/local/lib/python3.7/dist-packages (from tf-nightly) (4.1.1)\n",
            "Requirement already satisfied: libclang>=13.0.0 in /usr/local/lib/python3.7/dist-packages (from tf-nightly) (14.0.6)\n",
            "Requirement already satisfied: grpcio<2.0,>=1.24.3 in /usr/local/lib/python3.7/dist-packages (from tf-nightly) (1.49.1)\n",
            "Requirement already satisfied: h5py>=2.9.0 in /usr/local/lib/python3.7/dist-packages (from tf-nightly) (3.1.0)\n",
            "Requirement already satisfied: protobuf<3.20,>=3.9.2 in /usr/local/lib/python3.7/dist-packages (from tf-nightly) (3.17.3)\n",
            "Requirement already satisfied: absl-py>=1.0.0 in /usr/local/lib/python3.7/dist-packages (from tf-nightly) (1.2.0)\n",
            "Requirement already satisfied: setuptools in /usr/local/lib/python3.7/dist-packages (from tf-nightly) (57.4.0)\n",
            "Requirement already satisfied: keras-nightly~=2.11.0.dev in /usr/local/lib/python3.7/dist-packages (from tf-nightly) (2.11.0.dev2022100707)\n",
            "Requirement already satisfied: tf-estimator-nightly~=2.11.0.dev in /usr/local/lib/python3.7/dist-packages (from tf-nightly) (2.11.0.dev2022100708)\n",
            "Requirement already satisfied: gast<=0.4.0,>=0.2.1 in /usr/local/lib/python3.7/dist-packages (from tf-nightly) (0.4.0)\n",
            "Requirement already satisfied: numpy>=1.20 in /usr/local/lib/python3.7/dist-packages (from tf-nightly) (1.21.6)\n",
            "Requirement already satisfied: tb-nightly~=2.11.0.a in /usr/local/lib/python3.7/dist-packages (from tf-nightly) (2.11.0a20221007)\n",
            "Requirement already satisfied: google-pasta>=0.1.1 in /usr/local/lib/python3.7/dist-packages (from tf-nightly) (0.2.0)\n",
            "Requirement already satisfied: packaging in /usr/local/lib/python3.7/dist-packages (from tf-nightly) (21.3)\n",
            "Requirement already satisfied: astunparse>=1.6.0 in /usr/local/lib/python3.7/dist-packages (from tf-nightly) (1.6.3)\n",
            "Requirement already satisfied: opt-einsum>=2.3.2 in /usr/local/lib/python3.7/dist-packages (from tf-nightly) (3.3.0)\n",
            "Requirement already satisfied: six>=1.12.0 in /usr/local/lib/python3.7/dist-packages (from tf-nightly) (1.15.0)\n",
            "Requirement already satisfied: wrapt>=1.11.0 in /usr/local/lib/python3.7/dist-packages (from tf-nightly) (1.14.1)\n",
            "Requirement already satisfied: termcolor>=1.1.0 in /usr/local/lib/python3.7/dist-packages (from tf-nightly) (2.0.1)\n",
            "Requirement already satisfied: flatbuffers>=2.0 in /usr/local/lib/python3.7/dist-packages (from tf-nightly) (22.9.24)\n",
            "Requirement already satisfied: wheel<1.0,>=0.23.0 in /usr/local/lib/python3.7/dist-packages (from astunparse>=1.6.0->tf-nightly) (0.37.1)\n",
            "Requirement already satisfied: cached-property in /usr/local/lib/python3.7/dist-packages (from h5py>=2.9.0->tf-nightly) (1.5.2)\n",
            "Requirement already satisfied: google-auth-oauthlib<0.5,>=0.4.1 in /usr/local/lib/python3.7/dist-packages (from tb-nightly~=2.11.0.a->tf-nightly) (0.4.6)\n",
            "Requirement already satisfied: tensorboard-plugin-wit>=1.6.0 in /usr/local/lib/python3.7/dist-packages (from tb-nightly~=2.11.0.a->tf-nightly) (1.8.1)\n",
            "Requirement already satisfied: markdown>=2.6.8 in /usr/local/lib/python3.7/dist-packages (from tb-nightly~=2.11.0.a->tf-nightly) (3.4.1)\n",
            "Requirement already satisfied: google-auth<3,>=1.6.3 in /usr/local/lib/python3.7/dist-packages (from tb-nightly~=2.11.0.a->tf-nightly) (1.35.0)\n",
            "Requirement already satisfied: werkzeug>=1.0.1 in /usr/local/lib/python3.7/dist-packages (from tb-nightly~=2.11.0.a->tf-nightly) (1.0.1)\n",
            "Requirement already satisfied: tensorboard-data-server<0.7.0,>=0.6.0 in /usr/local/lib/python3.7/dist-packages (from tb-nightly~=2.11.0.a->tf-nightly) (0.6.1)\n",
            "Requirement already satisfied: requests<3,>=2.21.0 in /usr/local/lib/python3.7/dist-packages (from tb-nightly~=2.11.0.a->tf-nightly) (2.23.0)\n",
            "Requirement already satisfied: pyasn1-modules>=0.2.1 in /usr/local/lib/python3.7/dist-packages (from google-auth<3,>=1.6.3->tb-nightly~=2.11.0.a->tf-nightly) (0.2.8)\n",
            "Requirement already satisfied: cachetools<5.0,>=2.0.0 in /usr/local/lib/python3.7/dist-packages (from google-auth<3,>=1.6.3->tb-nightly~=2.11.0.a->tf-nightly) (4.2.4)\n",
            "Requirement already satisfied: rsa<5,>=3.1.4 in /usr/local/lib/python3.7/dist-packages (from google-auth<3,>=1.6.3->tb-nightly~=2.11.0.a->tf-nightly) (4.9)\n",
            "Requirement already satisfied: requests-oauthlib>=0.7.0 in /usr/local/lib/python3.7/dist-packages (from google-auth-oauthlib<0.5,>=0.4.1->tb-nightly~=2.11.0.a->tf-nightly) (1.3.1)\n",
            "Requirement already satisfied: importlib-metadata>=4.4 in /usr/local/lib/python3.7/dist-packages (from markdown>=2.6.8->tb-nightly~=2.11.0.a->tf-nightly) (5.0.0)\n",
            "Requirement already satisfied: zipp>=0.5 in /usr/local/lib/python3.7/dist-packages (from importlib-metadata>=4.4->markdown>=2.6.8->tb-nightly~=2.11.0.a->tf-nightly) (3.8.1)\n",
            "Requirement already satisfied: pyasn1<0.5.0,>=0.4.6 in /usr/local/lib/python3.7/dist-packages (from pyasn1-modules>=0.2.1->google-auth<3,>=1.6.3->tb-nightly~=2.11.0.a->tf-nightly) (0.4.8)\n",
            "Requirement already satisfied: idna<3,>=2.5 in /usr/local/lib/python3.7/dist-packages (from requests<3,>=2.21.0->tb-nightly~=2.11.0.a->tf-nightly) (2.10)\n",
            "Requirement already satisfied: certifi>=2017.4.17 in /usr/local/lib/python3.7/dist-packages (from requests<3,>=2.21.0->tb-nightly~=2.11.0.a->tf-nightly) (2022.9.24)\n",
            "Requirement already satisfied: urllib3!=1.25.0,!=1.25.1,<1.26,>=1.21.1 in /usr/local/lib/python3.7/dist-packages (from requests<3,>=2.21.0->tb-nightly~=2.11.0.a->tf-nightly) (1.24.3)\n",
            "Requirement already satisfied: chardet<4,>=3.0.2 in /usr/local/lib/python3.7/dist-packages (from requests<3,>=2.21.0->tb-nightly~=2.11.0.a->tf-nightly) (3.0.4)\n",
            "Requirement already satisfied: oauthlib>=3.0.0 in /usr/local/lib/python3.7/dist-packages (from requests-oauthlib>=0.7.0->google-auth-oauthlib<0.5,>=0.4.1->tb-nightly~=2.11.0.a->tf-nightly) (3.2.1)\n",
            "Requirement already satisfied: pyparsing!=3.0.5,>=2.0.2 in /usr/local/lib/python3.7/dist-packages (from packaging->tf-nightly) (3.0.9)\n",
            "Looking in indexes: https://pypi.org/simple, https://us-python.pkg.dev/colab-wheels/public/simple/\n",
            "Requirement already satisfied: tensorflow-datasets in /usr/local/lib/python3.7/dist-packages (4.6.0)\n",
            "Requirement already satisfied: numpy in /usr/local/lib/python3.7/dist-packages (from tensorflow-datasets) (1.21.6)\n",
            "Requirement already satisfied: absl-py in /usr/local/lib/python3.7/dist-packages (from tensorflow-datasets) (1.2.0)\n",
            "Requirement already satisfied: promise in /usr/local/lib/python3.7/dist-packages (from tensorflow-datasets) (2.3)\n",
            "Requirement already satisfied: typing-extensions in /usr/local/lib/python3.7/dist-packages (from tensorflow-datasets) (4.1.1)\n",
            "Requirement already satisfied: tensorflow-metadata in /usr/local/lib/python3.7/dist-packages (from tensorflow-datasets) (1.10.0)\n",
            "Requirement already satisfied: requests>=2.19.0 in /usr/local/lib/python3.7/dist-packages (from tensorflow-datasets) (2.23.0)\n",
            "Requirement already satisfied: dill in /usr/local/lib/python3.7/dist-packages (from tensorflow-datasets) (0.3.5.1)\n",
            "Requirement already satisfied: toml in /usr/local/lib/python3.7/dist-packages (from tensorflow-datasets) (0.10.2)\n",
            "Requirement already satisfied: six in /usr/local/lib/python3.7/dist-packages (from tensorflow-datasets) (1.15.0)\n",
            "Requirement already satisfied: etils[epath] in /usr/local/lib/python3.7/dist-packages (from tensorflow-datasets) (0.8.0)\n",
            "Requirement already satisfied: importlib-resources in /usr/local/lib/python3.7/dist-packages (from tensorflow-datasets) (5.9.0)\n",
            "Requirement already satisfied: tqdm in /usr/local/lib/python3.7/dist-packages (from tensorflow-datasets) (4.64.1)\n",
            "Requirement already satisfied: protobuf>=3.12.2 in /usr/local/lib/python3.7/dist-packages (from tensorflow-datasets) (3.17.3)\n",
            "Requirement already satisfied: termcolor in /usr/local/lib/python3.7/dist-packages (from tensorflow-datasets) (2.0.1)\n",
            "Requirement already satisfied: certifi>=2017.4.17 in /usr/local/lib/python3.7/dist-packages (from requests>=2.19.0->tensorflow-datasets) (2022.9.24)\n",
            "Requirement already satisfied: urllib3!=1.25.0,!=1.25.1,<1.26,>=1.21.1 in /usr/local/lib/python3.7/dist-packages (from requests>=2.19.0->tensorflow-datasets) (1.24.3)\n",
            "Requirement already satisfied: chardet<4,>=3.0.2 in /usr/local/lib/python3.7/dist-packages (from requests>=2.19.0->tensorflow-datasets) (3.0.4)\n",
            "Requirement already satisfied: idna<3,>=2.5 in /usr/local/lib/python3.7/dist-packages (from requests>=2.19.0->tensorflow-datasets) (2.10)\n",
            "Requirement already satisfied: zipp in /usr/local/lib/python3.7/dist-packages (from etils[epath]->tensorflow-datasets) (3.8.1)\n",
            "Requirement already satisfied: googleapis-common-protos<2,>=1.52.0 in /usr/local/lib/python3.7/dist-packages (from tensorflow-metadata->tensorflow-datasets) (1.56.4)\n",
            "2.11.0-dev20221007\n"
          ]
        }
      ],
      "source": [
        "# import libraries\n",
        "try:\n",
        "  # %tensorflow_version only exists in Colab.\n",
        "  !pip install tf-nightly\n",
        "except Exception:\n",
        "  pass\n",
        "import tensorflow as tf\n",
        "import pandas as pd\n",
        "from tensorflow import keras\n",
        "from tensorflow.keras.layers.experimental.preprocessing import TextVectorization\n",
        "!pip install tensorflow-datasets\n",
        "import tensorflow_datasets as tfds\n",
        "import numpy as np\n",
        "import matplotlib.pyplot as plt\n",
        "\n",
        "print(tf.__version__)"
      ]
    },
    {
      "cell_type": "code",
      "execution_count": 64,
      "metadata": {
        "colab": {
          "base_uri": "https://localhost:8080/"
        },
        "id": "lMHwYXHXCar3",
        "outputId": "994febef-747c-4f24-fcf3-a0e6ae788a65",
        "vscode": {
          "languageId": "python"
        }
      },
      "outputs": [
        {
          "name": "stdout",
          "output_type": "stream",
          "text": [
            "--2022-10-07 15:56:39--  https://cdn.freecodecamp.org/project-data/sms/train-data.tsv\n",
            "Resolving cdn.freecodecamp.org (cdn.freecodecamp.org)... 104.26.2.33, 104.26.3.33, 172.67.70.149, ...\n",
            "Connecting to cdn.freecodecamp.org (cdn.freecodecamp.org)|104.26.2.33|:443... connected.\n",
            "HTTP request sent, awaiting response... 200 OK\n",
            "Length: 358233 (350K) [text/tab-separated-values]\n",
            "Saving to: ‘train-data.tsv.4’\n",
            "\n",
            "\rtrain-data.tsv.4      0%[                    ]       0  --.-KB/s               \rtrain-data.tsv.4    100%[===================>] 349.84K  --.-KB/s    in 0.04s   \n",
            "\n",
            "2022-10-07 15:56:39 (8.80 MB/s) - ‘train-data.tsv.4’ saved [358233/358233]\n",
            "\n",
            "--2022-10-07 15:56:39--  https://cdn.freecodecamp.org/project-data/sms/valid-data.tsv\n",
            "Resolving cdn.freecodecamp.org (cdn.freecodecamp.org)... 104.26.2.33, 104.26.3.33, 172.67.70.149, ...\n",
            "Connecting to cdn.freecodecamp.org (cdn.freecodecamp.org)|104.26.2.33|:443... connected.\n",
            "HTTP request sent, awaiting response... 200 OK\n",
            "Length: 118774 (116K) [text/tab-separated-values]\n",
            "Saving to: ‘valid-data.tsv.4’\n",
            "\n",
            "valid-data.tsv.4    100%[===================>] 115.99K  --.-KB/s    in 0.01s   \n",
            "\n",
            "2022-10-07 15:56:40 (9.02 MB/s) - ‘valid-data.tsv.4’ saved [118774/118774]\n",
            "\n"
          ]
        }
      ],
      "source": [
        "# get data files\n",
        "!wget https://cdn.freecodecamp.org/project-data/sms/train-data.tsv\n",
        "!wget https://cdn.freecodecamp.org/project-data/sms/valid-data.tsv\n",
        "\n",
        "train_file_path = \"train-data.tsv\"\n",
        "test_file_path = \"valid-data.tsv\""
      ]
    },
    {
      "cell_type": "code",
      "execution_count": 65,
      "metadata": {
        "colab": {
          "base_uri": "https://localhost:8080/",
          "height": 206
        },
        "id": "g_h508FEClxO",
        "outputId": "6bb97072-5474-4186-dc8d-ef90fac7afda",
        "vscode": {
          "languageId": "python"
        }
      },
      "outputs": [
        {
          "data": {
            "text/html": [
              "\n",
              "  <div id=\"df-be434783-c2bd-4877-8681-48c86aa1be34\">\n",
              "    <div class=\"colab-df-container\">\n",
              "      <div>\n",
              "<style scoped>\n",
              "    .dataframe tbody tr th:only-of-type {\n",
              "        vertical-align: middle;\n",
              "    }\n",
              "\n",
              "    .dataframe tbody tr th {\n",
              "        vertical-align: top;\n",
              "    }\n",
              "\n",
              "    .dataframe thead th {\n",
              "        text-align: right;\n",
              "    }\n",
              "</style>\n",
              "<table border=\"1\" class=\"dataframe\">\n",
              "  <thead>\n",
              "    <tr style=\"text-align: right;\">\n",
              "      <th></th>\n",
              "      <th>type</th>\n",
              "      <th>msg</th>\n",
              "    </tr>\n",
              "  </thead>\n",
              "  <tbody>\n",
              "    <tr>\n",
              "      <th>0</th>\n",
              "      <td>ham</td>\n",
              "      <td>i am in hospital da. . i will return home in e...</td>\n",
              "    </tr>\n",
              "    <tr>\n",
              "      <th>1</th>\n",
              "      <td>ham</td>\n",
              "      <td>not much, just some textin'. how bout you?</td>\n",
              "    </tr>\n",
              "    <tr>\n",
              "      <th>2</th>\n",
              "      <td>ham</td>\n",
              "      <td>i probably won't eat at all today. i think i'm...</td>\n",
              "    </tr>\n",
              "    <tr>\n",
              "      <th>3</th>\n",
              "      <td>ham</td>\n",
              "      <td>don‘t give a flying monkeys wot they think and...</td>\n",
              "    </tr>\n",
              "    <tr>\n",
              "      <th>4</th>\n",
              "      <td>ham</td>\n",
              "      <td>who are you seeing?</td>\n",
              "    </tr>\n",
              "  </tbody>\n",
              "</table>\n",
              "</div>\n",
              "      <button class=\"colab-df-convert\" onclick=\"convertToInteractive('df-be434783-c2bd-4877-8681-48c86aa1be34')\"\n",
              "              title=\"Convert this dataframe to an interactive table.\"\n",
              "              style=\"display:none;\">\n",
              "        \n",
              "  <svg xmlns=\"http://www.w3.org/2000/svg\" height=\"24px\"viewBox=\"0 0 24 24\"\n",
              "       width=\"24px\">\n",
              "    <path d=\"M0 0h24v24H0V0z\" fill=\"none\"/>\n",
              "    <path d=\"M18.56 5.44l.94 2.06.94-2.06 2.06-.94-2.06-.94-.94-2.06-.94 2.06-2.06.94zm-11 1L8.5 8.5l.94-2.06 2.06-.94-2.06-.94L8.5 2.5l-.94 2.06-2.06.94zm10 10l.94 2.06.94-2.06 2.06-.94-2.06-.94-.94-2.06-.94 2.06-2.06.94z\"/><path d=\"M17.41 7.96l-1.37-1.37c-.4-.4-.92-.59-1.43-.59-.52 0-1.04.2-1.43.59L10.3 9.45l-7.72 7.72c-.78.78-.78 2.05 0 2.83L4 21.41c.39.39.9.59 1.41.59.51 0 1.02-.2 1.41-.59l7.78-7.78 2.81-2.81c.8-.78.8-2.07 0-2.86zM5.41 20L4 18.59l7.72-7.72 1.47 1.35L5.41 20z\"/>\n",
              "  </svg>\n",
              "      </button>\n",
              "      \n",
              "  <style>\n",
              "    .colab-df-container {\n",
              "      display:flex;\n",
              "      flex-wrap:wrap;\n",
              "      gap: 12px;\n",
              "    }\n",
              "\n",
              "    .colab-df-convert {\n",
              "      background-color: #E8F0FE;\n",
              "      border: none;\n",
              "      border-radius: 50%;\n",
              "      cursor: pointer;\n",
              "      display: none;\n",
              "      fill: #1967D2;\n",
              "      height: 32px;\n",
              "      padding: 0 0 0 0;\n",
              "      width: 32px;\n",
              "    }\n",
              "\n",
              "    .colab-df-convert:hover {\n",
              "      background-color: #E2EBFA;\n",
              "      box-shadow: 0px 1px 2px rgba(60, 64, 67, 0.3), 0px 1px 3px 1px rgba(60, 64, 67, 0.15);\n",
              "      fill: #174EA6;\n",
              "    }\n",
              "\n",
              "    [theme=dark] .colab-df-convert {\n",
              "      background-color: #3B4455;\n",
              "      fill: #D2E3FC;\n",
              "    }\n",
              "\n",
              "    [theme=dark] .colab-df-convert:hover {\n",
              "      background-color: #434B5C;\n",
              "      box-shadow: 0px 1px 3px 1px rgba(0, 0, 0, 0.15);\n",
              "      filter: drop-shadow(0px 1px 2px rgba(0, 0, 0, 0.3));\n",
              "      fill: #FFFFFF;\n",
              "    }\n",
              "  </style>\n",
              "\n",
              "      <script>\n",
              "        const buttonEl =\n",
              "          document.querySelector('#df-be434783-c2bd-4877-8681-48c86aa1be34 button.colab-df-convert');\n",
              "        buttonEl.style.display =\n",
              "          google.colab.kernel.accessAllowed ? 'block' : 'none';\n",
              "\n",
              "        async function convertToInteractive(key) {\n",
              "          const element = document.querySelector('#df-be434783-c2bd-4877-8681-48c86aa1be34');\n",
              "          const dataTable =\n",
              "            await google.colab.kernel.invokeFunction('convertToInteractive',\n",
              "                                                     [key], {});\n",
              "          if (!dataTable) return;\n",
              "\n",
              "          const docLinkHtml = 'Like what you see? Visit the ' +\n",
              "            '<a target=\"_blank\" href=https://colab.research.google.com/notebooks/data_table.ipynb>data table notebook</a>'\n",
              "            + ' to learn more about interactive tables.';\n",
              "          element.innerHTML = '';\n",
              "          dataTable['output_type'] = 'display_data';\n",
              "          await google.colab.output.renderOutput(dataTable, element);\n",
              "          const docLink = document.createElement('div');\n",
              "          docLink.innerHTML = docLinkHtml;\n",
              "          element.appendChild(docLink);\n",
              "        }\n",
              "      </script>\n",
              "    </div>\n",
              "  </div>\n",
              "  "
            ],
            "text/plain": [
              "  type                                                msg\n",
              "0  ham  i am in hospital da. . i will return home in e...\n",
              "1  ham         not much, just some textin'. how bout you?\n",
              "2  ham  i probably won't eat at all today. i think i'm...\n",
              "3  ham  don‘t give a flying monkeys wot they think and...\n",
              "4  ham                                who are you seeing?"
            ]
          },
          "execution_count": 65,
          "metadata": {},
          "output_type": "execute_result"
        }
      ],
      "source": [
        "train_df = pd.read_csv(test_file_path, sep=\"\\t\", header=None, names=[\"type\", \"msg\"])\n",
        "train_df.dropna()\n",
        "train_df.head()"
      ]
    },
    {
      "cell_type": "code",
      "execution_count": 66,
      "metadata": {
        "colab": {
          "base_uri": "https://localhost:8080/",
          "height": 206
        },
        "id": "zOMKywn4zReN",
        "outputId": "271e9ed3-4d32-45e5-af3b-c8bc15cca683",
        "vscode": {
          "languageId": "python"
        }
      },
      "outputs": [
        {
          "data": {
            "text/html": [
              "\n",
              "  <div id=\"df-2408548b-5941-462e-844e-b206235aef99\">\n",
              "    <div class=\"colab-df-container\">\n",
              "      <div>\n",
              "<style scoped>\n",
              "    .dataframe tbody tr th:only-of-type {\n",
              "        vertical-align: middle;\n",
              "    }\n",
              "\n",
              "    .dataframe tbody tr th {\n",
              "        vertical-align: top;\n",
              "    }\n",
              "\n",
              "    .dataframe thead th {\n",
              "        text-align: right;\n",
              "    }\n",
              "</style>\n",
              "<table border=\"1\" class=\"dataframe\">\n",
              "  <thead>\n",
              "    <tr style=\"text-align: right;\">\n",
              "      <th></th>\n",
              "      <th>type</th>\n",
              "      <th>msg</th>\n",
              "    </tr>\n",
              "  </thead>\n",
              "  <tbody>\n",
              "    <tr>\n",
              "      <th>0</th>\n",
              "      <td>ham</td>\n",
              "      <td>i am in hospital da. . i will return home in e...</td>\n",
              "    </tr>\n",
              "    <tr>\n",
              "      <th>1</th>\n",
              "      <td>ham</td>\n",
              "      <td>not much, just some textin'. how bout you?</td>\n",
              "    </tr>\n",
              "    <tr>\n",
              "      <th>2</th>\n",
              "      <td>ham</td>\n",
              "      <td>i probably won't eat at all today. i think i'm...</td>\n",
              "    </tr>\n",
              "    <tr>\n",
              "      <th>3</th>\n",
              "      <td>ham</td>\n",
              "      <td>don‘t give a flying monkeys wot they think and...</td>\n",
              "    </tr>\n",
              "    <tr>\n",
              "      <th>4</th>\n",
              "      <td>ham</td>\n",
              "      <td>who are you seeing?</td>\n",
              "    </tr>\n",
              "  </tbody>\n",
              "</table>\n",
              "</div>\n",
              "      <button class=\"colab-df-convert\" onclick=\"convertToInteractive('df-2408548b-5941-462e-844e-b206235aef99')\"\n",
              "              title=\"Convert this dataframe to an interactive table.\"\n",
              "              style=\"display:none;\">\n",
              "        \n",
              "  <svg xmlns=\"http://www.w3.org/2000/svg\" height=\"24px\"viewBox=\"0 0 24 24\"\n",
              "       width=\"24px\">\n",
              "    <path d=\"M0 0h24v24H0V0z\" fill=\"none\"/>\n",
              "    <path d=\"M18.56 5.44l.94 2.06.94-2.06 2.06-.94-2.06-.94-.94-2.06-.94 2.06-2.06.94zm-11 1L8.5 8.5l.94-2.06 2.06-.94-2.06-.94L8.5 2.5l-.94 2.06-2.06.94zm10 10l.94 2.06.94-2.06 2.06-.94-2.06-.94-.94-2.06-.94 2.06-2.06.94z\"/><path d=\"M17.41 7.96l-1.37-1.37c-.4-.4-.92-.59-1.43-.59-.52 0-1.04.2-1.43.59L10.3 9.45l-7.72 7.72c-.78.78-.78 2.05 0 2.83L4 21.41c.39.39.9.59 1.41.59.51 0 1.02-.2 1.41-.59l7.78-7.78 2.81-2.81c.8-.78.8-2.07 0-2.86zM5.41 20L4 18.59l7.72-7.72 1.47 1.35L5.41 20z\"/>\n",
              "  </svg>\n",
              "      </button>\n",
              "      \n",
              "  <style>\n",
              "    .colab-df-container {\n",
              "      display:flex;\n",
              "      flex-wrap:wrap;\n",
              "      gap: 12px;\n",
              "    }\n",
              "\n",
              "    .colab-df-convert {\n",
              "      background-color: #E8F0FE;\n",
              "      border: none;\n",
              "      border-radius: 50%;\n",
              "      cursor: pointer;\n",
              "      display: none;\n",
              "      fill: #1967D2;\n",
              "      height: 32px;\n",
              "      padding: 0 0 0 0;\n",
              "      width: 32px;\n",
              "    }\n",
              "\n",
              "    .colab-df-convert:hover {\n",
              "      background-color: #E2EBFA;\n",
              "      box-shadow: 0px 1px 2px rgba(60, 64, 67, 0.3), 0px 1px 3px 1px rgba(60, 64, 67, 0.15);\n",
              "      fill: #174EA6;\n",
              "    }\n",
              "\n",
              "    [theme=dark] .colab-df-convert {\n",
              "      background-color: #3B4455;\n",
              "      fill: #D2E3FC;\n",
              "    }\n",
              "\n",
              "    [theme=dark] .colab-df-convert:hover {\n",
              "      background-color: #434B5C;\n",
              "      box-shadow: 0px 1px 3px 1px rgba(0, 0, 0, 0.15);\n",
              "      filter: drop-shadow(0px 1px 2px rgba(0, 0, 0, 0.3));\n",
              "      fill: #FFFFFF;\n",
              "    }\n",
              "  </style>\n",
              "\n",
              "      <script>\n",
              "        const buttonEl =\n",
              "          document.querySelector('#df-2408548b-5941-462e-844e-b206235aef99 button.colab-df-convert');\n",
              "        buttonEl.style.display =\n",
              "          google.colab.kernel.accessAllowed ? 'block' : 'none';\n",
              "\n",
              "        async function convertToInteractive(key) {\n",
              "          const element = document.querySelector('#df-2408548b-5941-462e-844e-b206235aef99');\n",
              "          const dataTable =\n",
              "            await google.colab.kernel.invokeFunction('convertToInteractive',\n",
              "                                                     [key], {});\n",
              "          if (!dataTable) return;\n",
              "\n",
              "          const docLinkHtml = 'Like what you see? Visit the ' +\n",
              "            '<a target=\"_blank\" href=https://colab.research.google.com/notebooks/data_table.ipynb>data table notebook</a>'\n",
              "            + ' to learn more about interactive tables.';\n",
              "          element.innerHTML = '';\n",
              "          dataTable['output_type'] = 'display_data';\n",
              "          await google.colab.output.renderOutput(dataTable, element);\n",
              "          const docLink = document.createElement('div');\n",
              "          docLink.innerHTML = docLinkHtml;\n",
              "          element.appendChild(docLink);\n",
              "        }\n",
              "      </script>\n",
              "    </div>\n",
              "  </div>\n",
              "  "
            ],
            "text/plain": [
              "  type                                                msg\n",
              "0  ham  i am in hospital da. . i will return home in e...\n",
              "1  ham         not much, just some textin'. how bout you?\n",
              "2  ham  i probably won't eat at all today. i think i'm...\n",
              "3  ham  don‘t give a flying monkeys wot they think and...\n",
              "4  ham                                who are you seeing?"
            ]
          },
          "execution_count": 66,
          "metadata": {},
          "output_type": "execute_result"
        }
      ],
      "source": [
        "test_df = pd.read_csv(test_file_path, sep=\"\\t\", header=None, names=[\"type\", \"msg\"])\n",
        "test_df.dropna()\n",
        "train_df.head()"
      ]
    },
    {
      "cell_type": "code",
      "execution_count": 67,
      "metadata": {
        "id": "0892cOd_qsTw",
        "vscode": {
          "languageId": "python"
        }
      },
      "outputs": [],
      "source": [
        "train_df[\"type\"] = pd.factorize(train_df[\"type\"])[0]\n",
        "test_df[\"type\"] = pd.factorize(test_df[\"type\"])[0]"
      ]
    },
    {
      "cell_type": "code",
      "execution_count": 68,
      "metadata": {
        "colab": {
          "base_uri": "https://localhost:8080/"
        },
        "id": "Fjl2KpC6q10o",
        "outputId": "5bfee20e-3566-4d67-8b09-2e5dfce1e9a7",
        "vscode": {
          "languageId": "python"
        }
      },
      "outputs": [
        {
          "data": {
            "text/plain": [
              "(TensorSpec(shape=(), dtype=tf.string, name=None),\n",
              " TensorSpec(shape=(), dtype=tf.int64, name=None))"
            ]
          },
          "execution_count": 68,
          "metadata": {},
          "output_type": "execute_result"
        }
      ],
      "source": [
        "train_labels =  train_df[\"type\"].values\n",
        "train_ds = tf.data.Dataset.from_tensor_slices(\n",
        "    (train_df[\"msg\"].values, train_labels)\n",
        ")\n",
        "\n",
        "test_labels =  test_df[\"type\"].values\n",
        "test_ds = tf.data.Dataset.from_tensor_slices(\n",
        "    (test_df[\"msg\"].values, test_labels)\n",
        ")\n",
        "test_ds.element_spec"
      ]
    },
    {
      "cell_type": "code",
      "execution_count": 69,
      "metadata": {
        "id": "wnPRAbjMq78q",
        "vscode": {
          "languageId": "python"
        }
      },
      "outputs": [],
      "source": [
        "#Shuffle the data and create batches to better fit the model\n",
        "BUFFER_SIZE = 100\n",
        "BATCH_SIZE = 32\n",
        "train_ds = train_ds.shuffle(BUFFER_SIZE).batch(BATCH_SIZE).prefetch(tf.data.AUTOTUNE)\n",
        "test_ds = test_ds.batch(BATCH_SIZE).prefetch(tf.data.AUTOTUNE)"
      ]
    },
    {
      "cell_type": "markdown",
      "metadata": {
        "id": "ZXTvxuJEBMRf"
      },
      "source": [
        "Raw text by tfds needs to be processed before it can be used in a model.\n",
        "\n",
        "The TextVectorisation layer was used which maps text features to integer sequences."
      ]
    },
    {
      "cell_type": "code",
      "execution_count": 70,
      "metadata": {
        "id": "jwCtgzaNrgUl",
        "vscode": {
          "languageId": "python"
        }
      },
      "outputs": [],
      "source": [
        "vec = TextVectorization(\n",
        "    output_mode='int',\n",
        "    max_tokens=1000,\n",
        "    output_sequence_length=1000,\n",
        ")\n",
        "\n",
        "#adapt method sets the layer's vocabulary\n",
        "vec.adapt(train_ds.map(lambda text, label: text))"
      ]
    },
    {
      "cell_type": "code",
      "execution_count": 71,
      "metadata": {
        "colab": {
          "base_uri": "https://localhost:8080/"
        },
        "id": "S5LclzOHrxkN",
        "outputId": "4d486284-9071-4275-ce6d-06f3e895409e",
        "vscode": {
          "languageId": "python"
        }
      },
      "outputs": [
        {
          "data": {
            "text/plain": [
              "array(['', '[UNK]', 'i', 'to', 'you', 'a', 'the', 'u', 'and', 'is', 'in',\n",
              "       'me', 'my', 'your', 'for', 'have', 'it', 'of', 'call', 'that'],\n",
              "      dtype='<U16')"
            ]
          },
          "execution_count": 71,
          "metadata": {},
          "output_type": "execute_result"
        }
      ],
      "source": [
        "# First 20 tokens to see if our vectorisation is working properly\n",
        "\n",
        "vocab = np.array(vec.get_vocabulary())\n",
        "vocab[:20]"
      ]
    },
    {
      "cell_type": "markdown",
      "metadata": {
        "id": "en2d9_JjB1qt"
      },
      "source": [
        "Create the model\n",
        "\n",
        "![bidirectional.png](data:image/png;base64,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)\n"
      ]
    },
    {
      "cell_type": "code",
      "execution_count": 72,
      "metadata": {
        "id": "hY-1gfjrryn2",
        "vscode": {
          "languageId": "python"
        }
      },
      "outputs": [],
      "source": [
        "model = tf.keras.Sequential([\n",
        "    vec,\n",
        "    tf.keras.layers.Embedding(\n",
        "        len(vec.get_vocabulary()),\n",
        "        64,\n",
        "        mask_zero=True,\n",
        "    ),\n",
        "    tf.keras.layers.Bidirectional(tf.keras.layers.LSTM(64,  return_sequences=True)),\n",
        "    tf.keras.layers.Bidirectional(tf.keras.layers.LSTM(32)),\n",
        "    tf.keras.layers.Dense(64, activation='relu'),\n",
        "    tf.keras.layers.Dropout(0.3),\n",
        "    tf.keras.layers.Dense(1)\n",
        "])\n",
        "\n",
        "\n",
        "model.compile(\n",
        "    loss=tf.keras.losses.BinaryCrossentropy(from_logits=True),\n",
        "    optimizer=tf.keras.optimizers.Adam(1e-4),\n",
        "    metrics=['accuracy'],\n",
        ")"
      ]
    },
    {
      "cell_type": "code",
      "execution_count": 73,
      "metadata": {
        "colab": {
          "base_uri": "https://localhost:8080/"
        },
        "id": "SfZdv8FHse23",
        "outputId": "c3ca5092-4a27-4fad-8a99-77929637f335",
        "vscode": {
          "languageId": "python"
        }
      },
      "outputs": [
        {
          "name": "stdout",
          "output_type": "stream",
          "text": [
            "Epoch 1/10\n",
            "44/44 [==============================] - 175s 3s/step - loss: 0.6749 - accuracy: 0.8657 - val_loss: 0.6500 - val_accuracy: 0.8604\n",
            "Epoch 2/10\n",
            "44/44 [==============================] - 149s 3s/step - loss: 0.6010 - accuracy: 0.8657 - val_loss: 0.5438 - val_accuracy: 0.8604\n",
            "Epoch 3/10\n",
            "44/44 [==============================] - 141s 3s/step - loss: 0.5075 - accuracy: 0.8657 - val_loss: 0.4704 - val_accuracy: 0.8604\n",
            "Epoch 4/10\n",
            "44/44 [==============================] - 140s 3s/step - loss: 0.4312 - accuracy: 0.8657 - val_loss: 0.3965 - val_accuracy: 0.8604\n",
            "Epoch 5/10\n",
            "44/44 [==============================] - 140s 3s/step - loss: 0.3425 - accuracy: 0.8657 - val_loss: 0.2819 - val_accuracy: 0.8604\n",
            "Epoch 6/10\n",
            "44/44 [==============================] - 140s 3s/step - loss: 0.2214 - accuracy: 0.8657 - val_loss: 0.1721 - val_accuracy: 0.8604\n",
            "Epoch 7/10\n",
            "44/44 [==============================] - 139s 3s/step - loss: 0.1457 - accuracy: 0.8829 - val_loss: 0.1190 - val_accuracy: 0.9625\n",
            "Epoch 8/10\n",
            "44/44 [==============================] - 139s 3s/step - loss: 0.0999 - accuracy: 0.9705 - val_loss: 0.0783 - val_accuracy: 0.9823\n",
            "Epoch 9/10\n",
            "44/44 [==============================] - 139s 3s/step - loss: 0.0677 - accuracy: 0.9842 - val_loss: 0.0564 - val_accuracy: 0.9844\n",
            "Epoch 10/10\n",
            "44/44 [==============================] - 139s 3s/step - loss: 0.0539 - accuracy: 0.9864 - val_loss: 0.0442 - val_accuracy: 0.9896\n"
          ]
        }
      ],
      "source": [
        "# Train model using the data set\n",
        "\n",
        "history = model.fit(\n",
        "    train_ds,\n",
        "    validation_data=test_ds,\n",
        "    validation_steps=30,\n",
        "    epochs=10,\n",
        ")"
      ]
    },
    {
      "cell_type": "code",
      "execution_count": 74,
      "metadata": {
        "colab": {
          "base_uri": "https://localhost:8080/"
        },
        "id": "A3KbGBoL_DOH",
        "outputId": "883c5ce8-d3c6-49ae-877e-6f1814c15348",
        "vscode": {
          "languageId": "python"
        }
      },
      "outputs": [
        {
          "name": "stdout",
          "output_type": "stream",
          "text": [
            "44/44 [==============================] - 23s 529ms/step - loss: 0.0418 - accuracy: 0.9892\n"
          ]
        }
      ],
      "source": [
        "test_loss, test_acc = model.evaluate(test_ds)"
      ]
    },
    {
      "cell_type": "code",
      "execution_count": 75,
      "metadata": {
        "colab": {
          "base_uri": "https://localhost:8080/"
        },
        "id": "LkjiUMcO_GBZ",
        "outputId": "63d0edb1-69ea-42e1-e42f-f618742c93c8",
        "vscode": {
          "languageId": "python"
        }
      },
      "outputs": [
        {
          "name": "stdout",
          "output_type": "stream",
          "text": [
            "Test Loss: 0.04181535169482231\n",
            "Test Accuracy: 0.9892241358757019\n"
          ]
        }
      ],
      "source": [
        "print('Test Loss:', test_loss)\n",
        "print('Test Accuracy:', test_acc)"
      ]
    },
    {
      "cell_type": "code",
      "execution_count": 76,
      "metadata": {
        "id": "-B2vf3Jm_eOe",
        "vscode": {
          "languageId": "python"
        }
      },
      "outputs": [],
      "source": [
        "def plot_graphs(h, metric):\n",
        "    plt.plot(h.history[metric])\n",
        "    plt.plot(h.history['val_'+metric])\n",
        "    plt.xlabel(\"Epochs\")\n",
        "    plt.ylabel(metric)\n",
        "    plt.legend([metric, 'val_'+metric])"
      ]
    },
    {
      "cell_type": "code",
      "execution_count": 77,
      "metadata": {
        "colab": {
          "base_uri": "https://localhost:8080/",
          "height": 519
        },
        "id": "4NIGf2pn_ewQ",
        "outputId": "a1313e41-6357-4e00-c406-f73d2b3e5d63",
        "vscode": {
          "languageId": "python"
        }
      },
      "outputs": [
        {
          "data": {
            "text/plain": [
              "(0.0, 0.706459047831595)"
            ]
          },
          "execution_count": 77,
          "metadata": {},
          "output_type": "execute_result"
        },
        {
          "data": {
            "image/png": "[encoded data removed]",
            "text/plain": [
              "<Figure size 1152x576 with 2 Axes>"
            ]
          },
          "metadata": {
            "needs_background": "light"
          },
          "output_type": "display_data"
        }
      ],
      "source": [
        "plt.figure(figsize=(16, 8))\n",
        "plt.subplot(1, 2, 1)\n",
        "plot_graphs(history, 'accuracy')\n",
        "plt.ylim(None, 1)\n",
        "plt.subplot(1, 2, 2)\n",
        "plot_graphs(history, 'loss')\n",
        "plt.ylim(0, None)"
      ]
    },
    {
      "cell_type": "code",
      "execution_count": 80,
      "metadata": {
        "colab": {
          "base_uri": "https://localhost:8080/"
        },
        "id": "J9tD9yACG6M9",
        "outputId": "8a412148-585c-4f2e-9590-4c477073967f",
        "vscode": {
          "languageId": "python"
        }
      },
      "outputs": [
        {
          "name": "stdout",
          "output_type": "stream",
          "text": [
            "1/1 [==============================] - 0s 240ms/step\n",
            "[-4.2658587]\n",
            "(-4.2658587, 'ham')\n"
          ]
        }
      ],
      "source": [
        "# function to predict messages based on model\n",
        "# (should return list containing prediction and label, ex. [0.008318834938108921, 'ham'])\n",
        "def predict_message(pred_text):\n",
        "  p = model.predict([pred_text])[0]\n",
        "  print(p)\n",
        "  return (p[0], (\"ham\" if p<0.0 else \"spam\"))\n",
        "  \n",
        "\n",
        "pred_text = \"how are you doing today?\"\n",
        "\n",
        "prediction = predict_message(pred_text)\n",
        "print(prediction)"
      ]
    },
    {
      "cell_type": "code",
      "execution_count": 81,
      "metadata": {
        "colab": {
          "base_uri": "https://localhost:8080/"
        },
        "id": "Dxotov85SjsC",
        "outputId": "ac6c9b1b-25ef-43f6-ff00-b9aa2bccf4d3",
        "vscode": {
          "languageId": "python"
        }
      },
      "outputs": [
        {
          "name": "stdout",
          "output_type": "stream",
          "text": [
            "1/1 [==============================] - 0s 225ms/step\n",
            "[-4.2658587]\n",
            "1/1 [==============================] - 0s 231ms/step\n",
            "[0.4037582]\n",
            "1/1 [==============================] - 0s 244ms/step\n",
            "[-9.862889]\n",
            "1/1 [==============================] - 0s 254ms/step\n",
            "[0.10833851]\n",
            "1/1 [==============================] - 0s 229ms/step\n",
            "[1.7584932]\n",
            "1/1 [==============================] - 0s 230ms/step\n",
            "[-8.010811]\n",
            "1/1 [==============================] - 0s 229ms/step\n",
            "[-9.215874]\n",
            "You passed the challenge. Great job!\n"
          ]
        }
      ],
      "source": [
        "# Run this cell to test your function and model. Do not modify contents.\n",
        "def test_predictions():\n",
        "  test_messages = [\"how are you doing today\",\n",
        "                   \"sale today! to stop texts call 98912460324\",\n",
        "                   \"i dont want to go. can we try it a different day? available sat\",\n",
        "                   \"our new mobile video service is live. just install on your phone to start watching.\",\n",
        "                   \"you have won £1000 cash! call to claim your prize.\",\n",
        "                   \"i'll bring it tomorrow. don't forget the milk.\",\n",
        "                   \"wow, is your arm alright. that happened to me one time too\"\n",
        "                  ]\n",
        "\n",
        "  test_answers = [\"ham\", \"spam\", \"ham\", \"spam\", \"spam\", \"ham\", \"ham\"]\n",
        "  passed = True\n",
        "\n",
        "  for msg, ans in zip(test_messages, test_answers):\n",
        "    prediction = predict_message(msg)\n",
        "    if prediction[1] != ans:\n",
        "      passed = False\n",
        "\n",
        "  if passed:\n",
        "    print(\"You passed the challenge. Great job!\")\n",
        "  else:\n",
        "    print(\"You haven't passed yet. Keep trying.\")\n",
        "\n",
        "test_predictions()\n"
      ]
    }
  ],
  "metadata": {
    "colab": {
      "collapsed_sections": [],
      "provenance": [],
      "toc_visible": true
    },
    "kernelspec": {
      "display_name": "Python 3",
      "name": "python3"
    },
    "language_info": {}
  },
  "nbformat": 4,
  "nbformat_minor": 0
}
